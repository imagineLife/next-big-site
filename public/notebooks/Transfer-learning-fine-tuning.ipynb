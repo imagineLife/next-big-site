{
 "cells": [
  {
   "cell_type": "markdown",
   "id": "167e9784-c8a6-4ec5-92af-6aeda211083e",
   "metadata": {},
   "source": [
    "# Transfer Learning: Fine-Tuning\n",
    "Fine-tuning is a type of transfer learning.  \n",
    "Transfer learning (briefly):\n",
    "- uses existing pre-trained models\n",
    "- adjusts the use of the model to your/my use-case\n",
    "\n",
    "Fine-Tuning adjusts layers in the starting model. Fine-tuning adjusts _more layers than a \"feature extraction\" transfer learning setup._  \n",
    "\n",
    "## Notebook Goals"
   ]
  }
 ],
 "metadata": {
  "kernelspec": {
   "display_name": "Python 3 (ipykernel)",
   "language": "python",
   "name": "python3"
  },
  "language_info": {
   "codemirror_mode": {
    "name": "ipython",
    "version": 3
   },
   "file_extension": ".py",
   "mimetype": "text/x-python",
   "name": "python",
   "nbconvert_exporter": "python",
   "pygments_lexer": "ipython3",
   "version": "3.11.7"
  }
 },
 "nbformat": 4,
 "nbformat_minor": 5
}
