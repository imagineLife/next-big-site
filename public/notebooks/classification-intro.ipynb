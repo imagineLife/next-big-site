{
 "cells": [
  {
   "cell_type": "markdown",
   "id": "6eba90b9-13af-4eff-9308-f24875880c24",
   "metadata": {},
   "source": [
    "# Classification Intro\n",
    "## Types of Classification\n",
    "### Binary Classification\n",
    "`is this A or B?`,  `SPAM or NOT SPAM?`\n",
    "\n",
    "### Multi-Class Classification\n",
    "`Is this pizza, steak, or sushi?` `Is this a 1 or a 9?` \n",
    "\n",
    "### Multi-Label Classification\n",
    "`What tags/labels should this article get?`  \n",
    "\n",
    "## Topics To Consider With Classification Models\n",
    "- the architecture of a neural network\n",
    "- Input & Output shapes\n",
    "  - photos of food to identified foods \n",
    "- Steps in modeling (creating, compiling, fitting, and evaluationg)\n",
    "- Evaluation methods\n",
    "- saving + loading a model\n",
    "\n",
    "## Classification Example: Photo-to-food\n",
    "### The Overview\n",
    "- photos are (square) pixels\n",
    "- photos have dimensions, say 256x256\n",
    "- photos have pixels with colors, say rgb strings\n",
    "- the pixels can be broken down into numbers based on img pixel coordinates\n",
    "- the pixel numbers can be converted to tensors\n",
    "- the tensors can get passed to models....etc\n",
    "\n",
    "### The Inputs & Outputs\n",
    "Pixels get converted to tensors & passed to machine learning models.  \n",
    "Inputs could look like...\n",
    "- `[batch_size, img_width, img_height, colour_channels]`\n",
    "Outputs could look like...\n",
    "- `[%likeSushi, %likeSteak, %likePotatos, ...etc]`\n",
    "\n",
    "## Architecture of A Classification model\n",
    "A Classification model could...\n",
    "- be a sequential model\n",
    "- contain several layers\n",
    "  - an Input layer with a defined shape\n",
    "  - an activiation-specified set of \"inner\" layers\n",
    "  - a \"softmax\" final layer\n",
    "\n",
    "### Classification Model Details & Hyperparameters\n",
    "- **Input Layer Shape**: same as the number of features\n",
    "- **Hidden Layers**: Problem-specific (_minimum 1 & maximum unlimited..._)\n",
    "- **Neuros-Per-Hidden-Layer**: Problem-specific (generally 10-100)\n",
    "- **Output layer shape**: 1-per-classification\n",
    "- **Hidden Activation**: usually ReLu (rectified linear unit)\n",
    "- **Output Activation**: usually softmax for multi-class or sigmoid for binary class\n",
    "- **Loss Function**: Cross Entropy (categorical or binary)\n",
    "- **Optimizer**: SGD or Adam"
   ]
  },
  {
   "cell_type": "code",
   "execution_count": null,
   "id": "d490197d-c2ef-4b97-9634-1ef68c6ccc3e",
   "metadata": {},
   "outputs": [],
   "source": []
  }
 ],
 "metadata": {
  "kernelspec": {
   "display_name": "Python 3 (ipykernel)",
   "language": "python",
   "name": "python3"
  },
  "language_info": {
   "codemirror_mode": {
    "name": "ipython",
    "version": 3
   },
   "file_extension": ".py",
   "mimetype": "text/x-python",
   "name": "python",
   "nbconvert_exporter": "python",
   "pygments_lexer": "ipython3",
   "version": "3.11.6"
  }
 },
 "nbformat": 4,
 "nbformat_minor": 5
}
